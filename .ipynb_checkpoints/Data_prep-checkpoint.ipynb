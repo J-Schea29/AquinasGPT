{
 "cells": [
  {
   "cell_type": "code",
   "execution_count": 27,
   "id": "4f5b6150",
   "metadata": {},
   "outputs": [],
   "source": [
    "doc =open(\"Resources/Prima_Pars.txt\").readlines()"
   ]
  },
  {
   "cell_type": "code",
   "execution_count": 28,
   "id": "5dcea342",
   "metadata": {},
   "outputs": [],
   "source": [
    "#doc = \"\".join(doc).split('\\n')"
   ]
  },
  {
   "cell_type": "code",
   "execution_count": 29,
   "id": "d460d657",
   "metadata": {},
   "outputs": [],
   "source": [
    "def concant_to_space(i, l):\n",
    "    \n",
    "    a = 0\n",
    "    \n",
    "    st = \"\"\n",
    "    \n",
    "    while (l[a+i]!='\\n'):\n",
    "        space = \" \"+ l[i+a]\n",
    "        st+= space\n",
    "        \n",
    "        a+=1\n",
    "\n",
    "    return(st)"
   ]
  },
  {
   "cell_type": "code",
   "execution_count": 30,
   "id": "4e1c35b1",
   "metadata": {},
   "outputs": [],
   "source": [
    "def prompt_input(question):\n",
    "    question = question.replace(\"\\n\", \"\")\n",
    "    prompt = f\"\"\" Anwer in a clear concise way, in the manner of Thomas Aquinas\n",
    "    acording to the teaching of the catholic church, the question [{question}]\n",
    "    answers should be in the format:\n",
    "    \n",
    "    Obj. 1: ...\n",
    "    ...\n",
    "    Obj. N: ...\n",
    "    \n",
    "    On the contray, ...(concise)\n",
    "    \n",
    "    I answer that, ...(more nuanced)\n",
    "    \n",
    "    Reply to Obj. 1: ... \n",
    "    ...\n",
    "    Reply to Obj. N: ...\n",
    "    \\n\\n###\\n\\n\n",
    "    \"\"\"\n",
    "    return prompt"
   ]
  },
  {
   "cell_type": "code",
   "execution_count": 37,
   "id": "5ed68517",
   "metadata": {},
   "outputs": [],
   "source": [
    "def whole_article(i, l):\n",
    "    \n",
    "    a = 0\n",
    "    \n",
    "    st = \"\"\n",
    "    \n",
    "    continu = (doc[i+1].find(\"ARTICLE\")==-1)\n",
    "    \n",
    "    while continu:\n",
    "        \n",
    "        try:\n",
    "            l[a+i] = l[a+i].replace(\"_\", \"\")\n",
    "        except:\n",
    "            pass\n",
    "        try:\n",
    "            l[a+i] = l[a+i].replace(\"Objection 1:\", \"Obj. 1:\")\n",
    "        except:\n",
    "            pass\n",
    "        \n",
    "        if (l[a+i]=='\\n'):\n",
    "            st+= \"    \"\n",
    "            \n",
    "        st+= l[i+a]\n",
    "        \n",
    "        a+=1\n",
    "        \n",
    "        try:\n",
    "            \n",
    "            if (doc[i+a].find(\"ARTICLE\")==-1):\n",
    "                continu = (doc[i+a].find(\"ARTICLE\")==-1)|(doc[i+a].find(\"[\")==-1)\n",
    "            else:\n",
    "                continu = False\n",
    "        except:\n",
    "            continu = False\n",
    "        \n",
    "    st+=\"END\"\n",
    "    return st "
   ]
  },
  {
   "cell_type": "code",
   "execution_count": 38,
   "id": "62eec6e5",
   "metadata": {},
   "outputs": [
    {
     "data": {
      "text/plain": [
       "'FIRST ARTICLE [I, Q. 1, Art. 1]\\n'"
      ]
     },
     "execution_count": 38,
     "metadata": {},
     "output_type": "execute_result"
    }
   ],
   "source": [
    "doc[333]"
   ]
  },
  {
   "cell_type": "code",
   "execution_count": 44,
   "id": "0a91da34",
   "metadata": {},
   "outputs": [],
   "source": [
    "aquinas_dict = {\"Article\": [],  \"Question\": [], \"Obj. 1\": [], \"Sed Contra\": [], \"Respondeo\": [], \"Reply Obj. 1\": []}\n",
    "prompt_completion = {\"Prompt\": [], \"Completion\": []}\n",
    "\n",
    "for i in range(333, len(doc)):\n",
    "    \n",
    "    if (doc[i].find(\"ARTICLE\")!=-1)&(doc[i].find(\"[\")!=-1):\n",
    "        \n",
    "        aquinas_dict[\"Article\"].append(doc[i][doc[i].find(\"[\"):])\n",
    "        \n",
    "        aquinas_dict[\"Question\"].append(doc[i+2])\n",
    "        \n",
    "        prompt_completion[\"Prompt\"].append(prompt_input(doc[i+2]))\n",
    "        \n",
    "        prompt_completion[\"Completion\"].append(whole_article(i+4, doc))\n",
    "        \n",
    "        o_count = 0\n",
    "        r_count = 0\n",
    "        \n",
    "        continu = (doc[i+1].find(\"ARTICLE\")==-1)\n",
    "        \n",
    "        while continu:\n",
    "            \n",
    "            i+=1\n",
    "                \n",
    "                \n",
    "            if (doc[i].find(\"Obj.\")!=-1)&(doc[i].find(\"Reply Obj\")==-1):\n",
    "                \n",
    "                o_count +=1\n",
    "                \n",
    "                try: \n",
    "                    string = concant_to_space(i, doc)\n",
    "                    \n",
    "                    aquinas_dict[f\"Obj. {o_count}\"].append(string[string.find(\":\")+1:].replace(\"_\", \"\"))\n",
    "                    \n",
    "                except: \n",
    "                    \n",
    "                    string = concant_to_space(i, doc)\n",
    "                    \n",
    "                    aquinas_dict[f\"Obj. {o_count}\"] = [None]*(len(aquinas_dict[\"Obj. 1\"])-1)\n",
    "                    \n",
    "                    aquinas_dict[f\"Obj. {o_count}\"].append(string[string.find(\":\")+1:].replace(\"_\", \"\"))\n",
    "                    \n",
    "                \n",
    "            if doc[i].find(\"_On the contrary,_\")!=-1:\n",
    "                \n",
    "                aquinas_dict[\"Sed Contra\"].append(concant_to_space(i, doc).replace(\"_\", \"\"))\n",
    "                \n",
    "                \n",
    "            if doc[i].find(\"_I answer that,_\")!=-1:\n",
    "                \n",
    "                aquinas_dict[\"Respondeo\"].append(concant_to_space(i, doc).replace(\"_\", \"\"))\n",
    "                \n",
    "               \n",
    "            if doc[i].find(\"Reply Obj\")!=-1:\n",
    "                \n",
    "                r_count+=1\n",
    "                \n",
    "                try:\n",
    "                    string = concant_to_space(i, doc)\n",
    "                    aquinas_dict[f\"Reply Obj. {r_count}\"].append(string[string.find(\":\")+1:].replace(\"_\", \"\"))\n",
    "                    \n",
    "                except: \n",
    "                    string = concant_to_space(i, doc)\n",
    "                    \n",
    "                    aquinas_dict[f\"Reply Obj. {r_count}\"] = [None]*(len(aquinas_dict[\"Reply Obj. 1\"])-1)\n",
    "                        \n",
    "                    \n",
    "                    \n",
    "                    aquinas_dict[f\"Reply Obj. {r_count}\"].append(string[string.find(\":\")+1:].replace(\"_\", \"\"))\n",
    "                    \n",
    "            try:\n",
    "                if (doc[i+1].find(\"ARTICLE\")==-1):\n",
    "                    continu = (doc[i+1].find(\"ARTICLE\")==-1)|(doc[i+1].find(\"[\")==-1)\n",
    "                else:\n",
    "                    continu = False\n",
    "            except:\n",
    "                continu = False\n",
    "      \n",
    "        max_length = max(len(lst) for lst in aquinas_dict.values())\n",
    "\n",
    "        for key, value in aquinas_dict.items():\n",
    "            if len(value) < max_length:\n",
    "                aquinas_dict[key].extend([None] * (max_length - len(value)))\n",
    "\n",
    "\n"
   ]
  },
  {
   "cell_type": "code",
   "execution_count": 45,
   "id": "b917fbab",
   "metadata": {},
   "outputs": [],
   "source": [
    "import pandas as pd\n",
    "\n",
    "aquinas_df = pd.DataFrame(aquinas_dict)"
   ]
  },
  {
   "cell_type": "code",
   "execution_count": 46,
   "id": "ff3f7e37",
   "metadata": {},
   "outputs": [],
   "source": [
    "new_columns = ['Article', 'Question', 'Obj. 1', 'Obj. 2', 'Obj. 3', 'Obj. 4', 'Obj. 5',\n",
    "               'Obj. 6', 'Obj. 7', 'Obj. 8', 'Obj. 9', 'Obj. 10', 'Obj. 12', 'Obj. 13',\n",
    "               'Obj. 14', 'Obj. 15', 'Obj. 16', 'Sed Contra', 'Respondeo',\n",
    "               'Reply Obj. 1', 'Reply Obj. 2', 'Reply Obj. 3', 'Reply Obj. 4',\n",
    "               'Reply Obj. 5', 'Reply Obj. 6', 'Reply Obj. 7', 'Reply Obj. 8',\n",
    "               'Reply Obj. 9', 'Reply Obj. 10', 'Reply Obj. 11', 'Reply Obj. 12',\n",
    "               'Reply Obj. 13', 'Reply Obj. 14', 'Reply Obj. 15', 'Reply Obj. 16']\n",
    "\n",
    "# Reorder the columns in the dataframe\n",
    "aquinas_df = aquinas_df[new_columns]\n",
    "\n",
    "# Reorder the data in the dataframe based on the new column order\n",
    "aquinas_df = aquinas_df.reindex(columns=new_columns)"
   ]
  },
  {
   "cell_type": "code",
   "execution_count": 59,
   "id": "33a3f7a0",
   "metadata": {},
   "outputs": [
    {
     "data": {
      "text/plain": [
       "Index(['Article', 'Question', 'Obj. 1', 'Obj. 2', 'Obj. 3', 'Obj. 4', 'Obj. 5',\n",
       "       'Obj. 6', 'Obj. 7', 'Obj. 8', 'Obj. 9', 'Obj. 10', 'Obj. 12', 'Obj. 13',\n",
       "       'Obj. 14', 'Obj. 15', 'Obj. 16', 'Sed Contra', 'Respondeo',\n",
       "       'Reply Obj. 1', 'Reply Obj. 2', 'Reply Obj. 3', 'Reply Obj. 4',\n",
       "       'Reply Obj. 5', 'Reply Obj. 6', 'Reply Obj. 7', 'Reply Obj. 8',\n",
       "       'Reply Obj. 9', 'Reply Obj. 10', 'Reply Obj. 11', 'Reply Obj. 12',\n",
       "       'Reply Obj. 13', 'Reply Obj. 14', 'Reply Obj. 15', 'Reply Obj. 16'],\n",
       "      dtype='object')"
      ]
     },
     "execution_count": 59,
     "metadata": {},
     "output_type": "execute_result"
    }
   ],
   "source": [
    "aquinas_df.columns"
   ]
  },
  {
   "cell_type": "code",
   "execution_count": 23,
   "id": "f71f6039",
   "metadata": {},
   "outputs": [],
   "source": [
    "aquinas_df.to_csv('Prima_Pars.csv')"
   ]
  },
  {
   "cell_type": "code",
   "execution_count": 51,
   "id": "1eda83be",
   "metadata": {},
   "outputs": [],
   "source": [
    "fine_tuning_df = pd.DataFrame(prompt_completion)"
   ]
  },
  {
   "cell_type": "code",
   "execution_count": 56,
   "id": "4733a063",
   "metadata": {},
   "outputs": [],
   "source": [
    "json = fine_tuning_df.to_json()"
   ]
  },
  {
   "cell_type": "code",
   "execution_count": 58,
   "id": "ef42e7cf",
   "metadata": {},
   "outputs": [
    {
     "name": "stderr",
     "output_type": "stream",
     "text": [
      "IOPub data rate exceeded.\n",
      "The notebook server will temporarily stop sending output\n",
      "to the client in order to avoid crashing it.\n",
      "To change this limit, set the config variable\n",
      "`--NotebookApp.iopub_data_rate_limit`.\n",
      "\n",
      "Current values:\n",
      "NotebookApp.iopub_data_rate_limit=1000000.0 (bytes/sec)\n",
      "NotebookApp.rate_limit_window=3.0 (secs)\n",
      "\n"
     ]
    }
   ],
   "source": []
  }
 ],
 "metadata": {
  "kernelspec": {
   "display_name": "Python 3",
   "language": "python",
   "name": "python3"
  },
  "language_info": {
   "codemirror_mode": {
    "name": "ipython",
    "version": 3
   },
   "file_extension": ".py",
   "mimetype": "text/x-python",
   "name": "python",
   "nbconvert_exporter": "python",
   "pygments_lexer": "ipython3",
   "version": "3.8.8"
  }
 },
 "nbformat": 4,
 "nbformat_minor": 5
}
