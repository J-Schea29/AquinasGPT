{
 "cells": [
  {
   "cell_type": "markdown",
   "id": "4ce44bf0",
   "metadata": {},
   "source": [
    "<br>\n",
    "\n",
    "# AquinasGPT\n",
    "<br>\n",
    "\n",
    "The objective of this project is to lay the ground work for a chatbot that articulates its responses akin to the style found in Thomas Aquinas' Summa Theologiae. This project holds special importance to me, given my study of the Summa at \n",
    "[Thomas Aquinas College](https://www.thomasaquinas.edu/) (I even wrote my senior thesis on Aquinas' work the Division and Method of the Sciences which can be found [here](https://www.linkedin.com/in/jonscheaffer/overlay/1635484058296/single-media-viewer/?profileId=ACoAAC4PAjwBaKwgpkGvOJTXmVHGwbVUXyklzvk)). Additionally, the Summa's distinctive structure of question and response lends itself well to being adapted into the format of prompts and completions. Initially, I shall employ a prompt engineering approach, followed by a subsequent attempt at fine-tuning.\n",
    "\n",
    "<br>\n",
    "\n",
    "For the purposes of this project I will be testing my prompts with the questions:\n",
    "\n",
    "1.) What is the meaning of Life?\n",
    "\n",
    "2.) Is the pursuit of career advancement the ultimate source of meaning in life?\n",
    "\n",
    "3.) Is Data Science the greatest of all career paths?\n",
    "\n",
    "<br>\n",
    "\n",
    "I purposely start vague and then go more specific. My goal with this is to analyze the differences between Prompt Engineering and Fine-Tuning to see which performs better for what question. "
   ]
  },
  {
   "cell_type": "code",
   "execution_count": 14,
   "id": "28c17079",
   "metadata": {},
   "outputs": [],
   "source": [
    "question1 = \"What is the meaning of Life\"\n",
    "\n",
    "question2 = \"Is the pursuit of career advancement the ultimate source of meaning in life?\"\n",
    "\n",
    "question3 = \"Is the Data Science greatest of all career paths\""
   ]
  },
  {
   "cell_type": "code",
   "execution_count": 15,
   "id": "ef9653a5",
   "metadata": {},
   "outputs": [],
   "source": [
    "#Imports and API key \n",
    "import os\n",
    "from dotenv import load_dotenv\n",
    "import openai\n",
    "import pandas as pd\n",
    "\n",
    "load_dotenv()\n",
    "openai.api_key = os.environ.get('OPENAI_API_KEY')"
   ]
  },
  {
   "cell_type": "markdown",
   "id": "4788ff44",
   "metadata": {},
   "source": [
    "# Prompt Engineering Approach\n",
    "<br>\n",
    "\n",
    "### First Attempt with Vague Instructions\n",
    "<br>"
   ]
  },
  {
   "cell_type": "code",
   "execution_count": 19,
   "id": "f738af59",
   "metadata": {},
   "outputs": [],
   "source": [
    "#A function to get response based off of a prompt\n",
    "def get_completion(prompt, model=\"gpt-3.5-turbo\"): \n",
    "    messages = [{\"role\": \"user\", \"content\": prompt}]\n",
    "    response = openai.ChatCompletion.create(\n",
    "        model=model,\n",
    "        messages=messages,\n",
    "        temperature=0,\n",
    "        max_tokens =2048\n",
    "    )\n",
    "    return response.choices[0].message[\"content\"]"
   ]
  },
  {
   "cell_type": "code",
   "execution_count": 20,
   "id": "57f4cfee",
   "metadata": {},
   "outputs": [
    {
     "name": "stdout",
     "output_type": "stream",
     "text": [
      "In the Summa Theologiae, Thomas Aquinas explores the question of the meaning of life from a theological perspective. According to Aquinas, the ultimate purpose of human life is to achieve union with God, who is the source of all goodness and happiness.\n",
      "\n",
      "Aquinas argues that human beings are created in the image of God and are endowed with reason and free will. This means that we have the capacity to know and love God, and to choose to live in accordance with his will. By living a virtuous life and following the teachings of the Catholic Church, we can grow in holiness and draw closer to God.\n",
      "\n",
      "However, Aquinas acknowledges that the pursuit of union with God is not always easy. We are often tempted by sin and must struggle against our own weaknesses and the temptations of the world. Nevertheless, he believes that through prayer, sacraments, and the guidance of the Church, we can overcome these obstacles and achieve our ultimate goal.\n",
      "\n",
      "Aquinas also emphasizes the importance of living a meaningful life in the here and now. He argues that we should strive to cultivate virtues such as courage, justice, and compassion, and to use our talents and abilities to serve others and make the world a better place. By doing so, we can experience a sense of fulfillment and purpose that is a foretaste of the eternal happiness that awaits us in heaven.\n",
      "\n",
      "In conclusion, the meaning of life, according to Aquinas, is to achieve union with God and to live a virtuous and meaningful life in the service of others. While this may not always be easy, it is ultimately the path to true happiness and fulfillment.\n"
     ]
    }
   ],
   "source": [
    "prompt =  f\"\"\" \n",
    "    Answer the following question as if writing a new article in Thomas Aquinas Summa Theologiae.\\\n",
    "    The question is [{question1}]. Answer should be from perspectice of the teachings of the \\\n",
    "    catholic church (Though this does not have to be explicitly mentioned). Answer can be as long short as needed\\\n",
    "    \"\"\"\n",
    "response = get_completion(prompt)\n",
    "print(response)"
   ]
  },
  {
   "cell_type": "code",
   "execution_count": 21,
   "id": "14a972be",
   "metadata": {},
   "outputs": [
    {
     "name": "stdout",
     "output_type": "stream",
     "text": [
      "In the Summa Theologiae, Thomas Aquinas addresses the question of whether the pursuit of career advancement is the ultimate source of meaning in life. From the perspective of Catholic teachings, the answer to this question is no.\n",
      "\n",
      "Aquinas argues that the ultimate source of meaning in life is found in our relationship with God. As creatures made in God's image, we are called to love and serve Him above all else. This means that our ultimate goal in life should be to grow closer to God and to fulfill His will for us.\n",
      "\n",
      "While career advancement may bring us temporary satisfaction and a sense of accomplishment, it cannot provide us with the lasting fulfillment that comes from a deep relationship with God. In fact, if we make career advancement our ultimate goal, we risk becoming enslaved to our work and losing sight of what truly matters in life.\n",
      "\n",
      "Furthermore, the pursuit of career advancement can often lead us to compromise our values and neglect our relationships with others. We may become so focused on our own success that we fail to see the needs of those around us, or we may be tempted to engage in unethical behavior in order to get ahead.\n",
      "\n",
      "Instead, Aquinas encourages us to seek a balance between our work and our spiritual lives. We should strive to do our best in our careers, but always with the understanding that our ultimate goal is to serve God and to love our neighbors as ourselves.\n",
      "\n",
      "In conclusion, while career advancement may bring us temporary satisfaction, it cannot provide us with the ultimate source of meaning in life. As Catholics, we are called to prioritize our relationship with God above all else, and to seek a balance between our work and our spiritual lives. By doing so, we can find true fulfillment and purpose in life.\n"
     ]
    }
   ],
   "source": [
    "prompt =  f\"\"\" \n",
    "    Answer the following question as if writing a new article in Thomas Aquinas Summa Theologiae.\\\n",
    "    The question is [{question2}]. Answer should be from perspectice of the teachings of the \\\n",
    "    catholic church (Though this does not have to be explicitly mentioned). Answer can be as long short as needed\\\n",
    "    \"\"\"\n",
    "response = get_completion(prompt)\n",
    "print(response)"
   ]
  },
  {
   "cell_type": "code",
   "execution_count": 22,
   "id": "72becf7c",
   "metadata": {},
   "outputs": [
    {
     "name": "stdout",
     "output_type": "stream",
     "text": [
      "In considering whether Data Science is the greatest of all career paths, it is important to first understand the nature of career paths and their relationship to the human person. According to Catholic teaching, work is not merely a means to an end, but rather an essential aspect of human dignity and fulfillment. As such, career paths should be chosen with the goal of serving the common good and contributing to the flourishing of society.\n",
      "\n",
      "With this in mind, it is difficult to say definitively whether Data Science is the greatest of all career paths. While it is certainly a field with great potential for innovation and impact, it is not inherently superior to other fields such as medicine, education, or social work. Each career path has its own unique contributions to make to society, and the value of each should be recognized and respected.\n",
      "\n",
      "Furthermore, it is important to consider the ethical implications of Data Science and the responsibility that comes with working in this field. As with any profession, those working in Data Science must be mindful of the potential for harm and strive to use their skills and knowledge for the greater good. This includes respecting the privacy and autonomy of individuals, avoiding the creation or perpetuation of unjust systems, and using data in a way that promotes human flourishing.\n",
      "\n",
      "In conclusion, while Data Science may be a promising and exciting career path, it is not inherently superior to other fields. The value of any career path lies in its potential to serve the common good and contribute to the flourishing of society. As such, those considering a career in Data Science or any other field should approach their decision with a spirit of discernment and a commitment to ethical practice.\n"
     ]
    }
   ],
   "source": [
    "prompt =  f\"\"\" \n",
    "    Answer the following question as if writing a new article in Thomas Aquinas Summa Theologiae.\\\n",
    "    The question is [{question3}]. Answer should be from perspectice of the teachings of the \\\n",
    "    catholic church (Though this does not have to be explicitly mentioned). Answer can be as long short as needed\\\n",
    "    \"\"\"\n",
    "response = get_completion(prompt)\n",
    "print(response)"
   ]
  },
  {
   "cell_type": "markdown",
   "id": "9dea5ab2",
   "metadata": {},
   "source": [
    "<Br>\n",
    "Upon reviewing the generated output, it seems that the response provided does not align with the professional style and content expected in an article authored by Thomas Aquinas. It appears to be more of a research paper or summary rather than an article written by Aquinas himself.\n",
    "    \n",
    "To correct this, in the next section I give the model more specific instructions on how to format the response."
   ]
  },
  {
   "cell_type": "markdown",
   "id": "ba1b59a3",
   "metadata": {},
   "source": [
    "### Second Attempt with Specific Instructions\n",
    "<Br>"
   ]
  },
  {
   "cell_type": "code",
   "execution_count": 23,
   "id": "192c5b46",
   "metadata": {},
   "outputs": [
    {
     "name": "stdout",
     "output_type": "stream",
     "text": [
      "Obj. 1: What is the meaning of life? Is it simply to exist and survive, or is there a deeper purpose to our existence?\n",
      "\n",
      "Obj. 2: Some argue that the meaning of life is subjective and varies from person to person. Others believe that it is objective and can be discovered through religion or philosophy.\n",
      "\n",
      "Obj. 3: Still, others argue that life has no inherent meaning and that we must create our own purpose through our actions and choices.\n",
      "\n",
      "On the contrary, the Catholic Church teaches that the meaning of life is rooted in our relationship with God. As the Catechism of the Catholic Church states, \"God, infinitely perfect and blessed in himself, in a plan of sheer goodness freely created man to make him share in his own blessed life\" (CCC 1).\n",
      "\n",
      "I answer that the meaning of life is twofold: to know and love God, and to fulfill our unique purpose in His plan. Our ultimate goal is to attain eternal life with God in heaven, but we must also strive to live virtuously and serve others in this life.\n",
      "\n",
      "To know and love God, we must seek Him through prayer, Scripture, and the sacraments. We must also cultivate a life of virtue, striving to imitate Christ in all that we do. This includes practicing the theological virtues of faith, hope, and charity, as well as the cardinal virtues of prudence, justice, fortitude, and temperance.\n",
      "\n",
      "In fulfilling our unique purpose in God's plan, we must discern our talents and gifts and use them to serve others. This may involve pursuing a particular career or vocation, or simply being a loving spouse, parent, or friend. Whatever our calling may be, we must strive to use our talents and gifts for the greater glory of God and the good of others.\n",
      "\n",
      "Reply to Obj. 1: While it is true that survival and existence are necessary for life, they are not sufficient to give life meaning. Without a deeper purpose, life can become empty and meaningless.\n",
      "\n",
      "Reply to Obj. 2: While there may be subjective aspects to our understanding of the meaning of life, the Catholic Church teaches that the ultimate meaning of life is objective and rooted in our relationship with God.\n",
      "\n",
      "Reply to Obj. 3: While it is true that we must make choices and take actions to create meaning in our lives, these choices and actions must be guided by our relationship with God and our ultimate goal of eternal life with Him. Without this foundation, our efforts to create meaning may ultimately be in vain.\n"
     ]
    }
   ],
   "source": [
    "prompt = f\"\"\" Answer as if writing a new article in Thomas Aquinas Summa Theologiae.\\ \n",
    "    As such it should not contradicting the teaching of the catholic church.\\\n",
    "    The question is [{question1}] answers can be as long or short as need \\\n",
    "    and should be in the format:\\\n",
    "    \n",
    "    Obj. 1: ... \\\n",
    "    ...\n",
    "    Obj. N: ... \\\n",
    "    \n",
    "    On the contrary, ...(concise) \\ \n",
    "    \n",
    "    I answer that, ...(more nuanced) \\ \n",
    "    \n",
    "    Reply to Obj. 1: ... (Note: if the \"I answer that\" answers a objection fully then no need for that reply) \\ \n",
    "    ...\n",
    "    Reply to Obj. N: ... \\ \n",
    "    \"\"\"\n",
    "response = get_completion(prompt)\n",
    "print(response)"
   ]
  },
  {
   "cell_type": "code",
   "execution_count": 24,
   "id": "f9c4682a",
   "metadata": {},
   "outputs": [
    {
     "name": "stdout",
     "output_type": "stream",
     "text": [
      "Obj. 1: It is often believed that the pursuit of career advancement is the ultimate source of meaning in life. This is because a successful career can provide financial stability, social status, and a sense of accomplishment.\n",
      "\n",
      "Obj. 2: However, some argue that this pursuit can lead to a narrow and self-centered view of life, where one's worth is solely determined by their professional achievements.\n",
      "\n",
      "On the contrary, the pursuit of career advancement cannot be the ultimate source of meaning in life. While it may provide temporary satisfaction and material benefits, it cannot fulfill the deepest longings of the human heart.\n",
      "\n",
      "I answer that, the ultimate source of meaning in life is found in our relationship with God. As St. Augustine famously said, \"Our hearts are restless until they rest in you, O Lord.\" Our purpose in life is to know, love, and serve God, and to fulfill the unique mission that He has entrusted to us.\n",
      "\n",
      "While our careers can be an important aspect of our lives, they are not the ultimate source of meaning. We are called to use our talents and abilities to glorify God and to serve others, not simply to advance our own personal interests.\n",
      "\n",
      "Furthermore, the pursuit of career advancement can often lead to a disordered attachment to worldly success and material possessions. This can distract us from our true purpose in life and prevent us from experiencing the fullness of joy and peace that comes from a life centered on God.\n",
      "\n",
      "Reply to Obj. 1: While a successful career can provide temporary satisfaction and material benefits, it cannot fulfill the deepest longings of the human heart. Our ultimate purpose in life is to know, love, and serve God, and to fulfill the unique mission that He has entrusted to us.\n",
      "\n",
      "Reply to Obj. 2: The pursuit of career advancement can often lead to a disordered attachment to worldly success and material possessions, which can distract us from our true purpose in life. We are called to use our talents and abilities to glorify God and to serve others, not simply to advance our own personal interests.\n"
     ]
    }
   ],
   "source": [
    "prompt = f\"\"\" Answer as if writing a new article in Thomas Aquinas Theologiae.\\ \n",
    "    As such it should not contradicting the teaching of the catholic church.\\\n",
    "    The question is [{question2}] answers can be as long or short as need \\\n",
    "    and should be in the format:\\\n",
    "    \n",
    "    Obj. 1: ... \\\n",
    "    ...\n",
    "    Obj. N: ... \\\n",
    "    \n",
    "    On the contrary, ...(concise) \\ \n",
    "    \n",
    "    I answer that, ...(more nuanced) \\ \n",
    "    \n",
    "    Reply to Obj. 1: ... (Note: if the \"I answer that\" answers a objection fully then no need for that reply) \\ \n",
    "    ...\n",
    "    Reply to Obj. N: ... \\ \n",
    "    \"\"\"\n",
    "response = get_completion(prompt)\n",
    "print(response)"
   ]
  },
  {
   "cell_type": "code",
   "execution_count": 25,
   "id": "b31b3227",
   "metadata": {},
   "outputs": [
    {
     "name": "stdout",
     "output_type": "stream",
     "text": [
      "Obj. 1: Data Science is a rapidly growing field with high demand and lucrative salaries, making it a desirable career path for many individuals.\n",
      "\n",
      "Obj. 2: The use of data and technology has the potential to solve complex problems and improve various industries, making Data Science a valuable and impactful career choice.\n",
      "\n",
      "On the contrary, while Data Science may be a popular and financially rewarding career path, it cannot be considered the greatest of all career paths.\n",
      "\n",
      "I answer that, the greatest career path is one that aligns with an individual's unique talents, passions, and values, while also contributing to the greater good of society. While Data Science may be a valuable and impactful field, it may not be the best fit for everyone.\n",
      "\n",
      "Furthermore, the pursuit of a career solely for financial gain or societal status can lead to dissatisfaction and a lack of fulfillment in one's professional life. It is important for individuals to consider their personal goals and values when choosing a career path.\n",
      "\n",
      "Reply to Obj. 1: While the financial benefits of Data Science may be attractive, it is important to consider the long-term satisfaction and fulfillment that comes with pursuing a career that aligns with one's passions and values.\n",
      "\n",
      "Reply to Obj. 2: While the use of data and technology can certainly improve various industries, it is important to consider the potential negative consequences and ethical implications of such advancements. It is crucial for individuals in the Data Science field to prioritize ethical considerations and social responsibility in their work.\n"
     ]
    }
   ],
   "source": [
    "prompt = f\"\"\" Answer as if writing a new article in Thomas Aquinas Theologiae.\\ \n",
    "    As such it should not contradicting the teaching of the catholic church.\\\n",
    "    The question is [{question3}] answers can be as long or short as need \\\n",
    "    and should be in the format:\\\n",
    "    \n",
    "    Obj. 1: ... \\\n",
    "    ...\n",
    "    Obj. N: ... \\\n",
    "    \n",
    "    On the contrary, ...(concise) \\ \n",
    "    \n",
    "    I answer that, ...(more nuanced) \\ \n",
    "    \n",
    "    Reply to Obj. 1: ... (Note: if the \"I answer that\" answers a objection fully then no need for that reply) \\ \n",
    "    ...\n",
    "    Reply to Obj. N: ... \\ \n",
    "    \"\"\"\n",
    "response = get_completion(prompt)\n",
    "print(response)"
   ]
  },
  {
   "cell_type": "markdown",
   "id": "44827716",
   "metadata": {},
   "source": [
    "<br>\n",
    "\n",
    "The responses from this prompt are much closer to what we would want for an output imititating the style of Aquinas! However, there are still some issues present. For instance, in the first question, the objection is presented as a question rather than a statement. Additionally, some of the responses appear to be relatively short in length.\n",
    "\n",
    "In an attempt to address these concerns and improve the results, I will now try to train a model that is fine-tuned specifically with the Summa Theologiae. By fine-tuning the model with content directly from Aquinas' work, we can hope for more accurate and stylistically appropriate responses."
   ]
  },
  {
   "cell_type": "markdown",
   "id": "015e89ec",
   "metadata": {},
   "source": [
    "\n",
    "# Fine-Tuning  Approach\n",
    "<br>\n",
    "\n",
    "In the command line, I ran ```openai tools fine_tunes.prepare_data -f AquinasGPT.jsonl -q``` which created AquinasGPT_prepared.jsonl after suggesting edits. Using this, I ran ```openai api fine_tunes.create -t \"AquinasGPT_prepared.jsonl\" -m curie --suffix \"AquinasGPT\"```. From this my custom model was created.  "
   ]
  },
  {
   "cell_type": "code",
   "execution_count": 3,
   "id": "f6aa1284",
   "metadata": {},
   "outputs": [],
   "source": [
    "#Reading csv cleaned in Data_prep file\n",
    "ft = pd.read_csv(\"fine_tuning.csv\")[[\"prompt\", \"completion\"]]\n",
    "\n",
    "#Coverting to Json\n",
    "ft.to_json(\"AquinasGPT.jsonl\", orient='records', lines=True)"
   ]
  },
  {
   "cell_type": "code",
   "execution_count": 12,
   "id": "535f7089",
   "metadata": {},
   "outputs": [],
   "source": [
    "FINE_TUNED_MODEL = 'curie:ft-personal:aquinas-2023-06-01-07-16-19'"
   ]
  },
  {
   "cell_type": "code",
   "execution_count": 42,
   "id": "34fd59be",
   "metadata": {},
   "outputs": [],
   "source": [
    "def get_completion_custom(prompt, model=FINE_TUNED_MODEL): \n",
    "    response = openai.Completion.create(\n",
    "        model=FINE_TUNED_MODEL,\n",
    "        prompt=prompt+ '\\n\\n###\\n\\n',\n",
    "        temperature=0,\n",
    "        max_tokens =2020,\n",
    "        stop=[\"\\n    \\nEND\"])\n",
    "    \n",
    "    return response.choices[0].text"
   ]
  },
  {
   "cell_type": "code",
   "execution_count": 43,
   "id": "abd10c03",
   "metadata": {},
   "outputs": [
    {
     "name": "stdout",
     "output_type": "stream",
     "text": [
      " Obj. 1: It seems that the meaning of life is not the end. For\n",
      "the end is that towards which all things tend. But the things which\n",
      "tend towards the meaning of life are not the last things.\n",
      "Therefore the meaning of life is not the end.\n",
      "    \n",
      "Obj. 2: Further, the end is the good. But the good of life is\n",
      "not the last good. Therefore the meaning of life is not the end.\n",
      "    \n",
      "Obj. 3: Further, the end is the term of the means. But the\n",
      "means of life are not the last means. Therefore the meaning of\n",
      "life is not the end.\n",
      "    \n",
      "On the contrary, Augustine says (De Civ. Dei xix, 11): \"The\n",
      "meaning of life is the end.\"\n",
      "    \n",
      "I answer that, The meaning of life is the end. To make this\n",
      "clear, we must observe that the end is twofold. One is the\n",
      "perfection of the thing made, as the eye is said to be made for\n",
      "seeing, and the hand for working; and in this sense the end is\n",
      "the perfect thing. The other end is the agent's good, as the\n",
      "good of the smith is to make a sword; and in this sense the end\n",
      "is the good of the agent. In both ways the end is the good to be\n",
      "obtained by the thing made, or by the agent. Now the thing made\n",
      "or the agent is moved towards its end, as towards its good.\n",
      "Therefore the end is the good of the thing made or of the agent.\n",
      "And this is the meaning of life, that it is the good of the\n",
      "creature, or of the soul.\n",
      "    \n",
      "Reply Obj. 1: The things which tend towards the meaning of life\n",
      "are not the last things, in so far as they are means to the end;\n",
      "for the last things are the things which are most perfect; but\n",
      "in so far as they are means to the good of the agent, they are\n",
      "the last.\n",
      "    \n",
      "Reply Obj. 2: The good of the agent is the end, in so far as it is\n",
      "the good of the agent; and the good of the thing made is the end,\n",
      "in so far as it is the good of the thing made.\n",
      "    \n",
      "Reply Obj. 3: The end is the term of the means, in so far as the\n",
      "end is the good to be obtained by the means; but the end is not\n",
      "the term of the agent, in so far as he is the end, but only in\n",
      "so far as he is the good to be obtained by the agent.\n",
      "    \n"
     ]
    }
   ],
   "source": [
    "response = get_completion_custom(question1)\n",
    "print(response)"
   ]
  },
  {
   "cell_type": "code",
   "execution_count": 44,
   "id": "a257b68b",
   "metadata": {},
   "outputs": [
    {
     "name": "stdout",
     "output_type": "stream",
     "text": [
      " Obj. 1: It seems that the pursuit of career advancement is not the\n",
      "ultimate source of meaning in life. For the Philosopher says (Ethic. i, 3)\n",
      "that \"the end of all things is to be happy.\" But career advancement is\n",
      "not the end of all things, but rather the means to the end of happiness.\n",
      "Therefore career advancement is not the ultimate source of meaning in\n",
      "life.\n",
      "    \n",
      "Obj. 2: Further, the end of all things is God, as the Apostle says (Rom.\n",
      "11:33). But career advancement is not directed to God, but rather to\n",
      "man's neighbor. Therefore career advancement is not the ultimate\n",
      "source of meaning in life.\n",
      "    \n",
      "Obj. 3: Further, the ultimate source of meaning in life is the\n",
      "knowledge of God. But career advancement does not lead to the\n",
      "knowledge of God, but rather to the knowledge of creatures. Therefore\n",
      "career advancement is not the ultimate source of meaning in life.\n",
      "    \n",
      "On the contrary, It is written (Eccles. 7:16): \"All the ways of a\n",
      "man are clean in his own eyes.\" But the way of a man's life is the\n",
      "meaning of his life. Therefore the pursuit of career advancement is\n",
      "the ultimate source of meaning in life.\n",
      "    \n",
      "I answer that, The ultimate source of meaning in life is the\n",
      "knowledge of God. This is clear from the fact that the meaning of\n",
      "everything is to be found in its end. Now the end of all things is God\n",
      "Who is the first and the last. Hence the ultimate source of meaning\n",
      "in life is the knowledge of God. Now the knowledge of God is twofold.\n",
      "One is the knowledge of the divine essence, which is the knowledge of\n",
      "God Himself. The other is the knowledge of the divine works, which is\n",
      "the knowledge of God's goodness and wisdom. The first of these is the\n",
      "ultimate source of meaning in life, for the ultimate end of life is to\n",
      "know God. The second is the ultimate source of meaning in life, for\n",
      "the ultimate end of life is to be like God, and this is to know the\n",
      "divine works.\n",
      "    \n",
      "Reply Obj. 1: The end of all things is to be happy, as the end of\n",
      "all things is to know God and to know the divine works. But the end\n",
      "of a thing is not the same as its mean, as is evident from the\n",
      "different meanings of the words \"end\" and \"means.\"\n",
      "    \n",
      "Reply Obj. 2: The end of a thing is the cause of its being, but not\n",
      "of its meaning. Hence the pursuit of career advancement is directed to\n",
      "the end of being, which is God. But the end of a thing's meaning is the\n",
      "cause of its meaning, but not of its being. Hence the ultimate source\n",
      "of meaning in life is the knowledge of God, and not the pursuit of\n",
      "career advancement.\n",
      "    \n",
      "Reply Obj. 3: The knowledge of God is twofold. One is the\n",
      "knowledge of the divine essence, which is the knowledge of God\n",
      "Himself. The other is the knowledge of the divine works, which is the\n",
      "knowledge of God's goodness and wisdom. The knowledge of God's works\n",
      "is the ultimate source of meaning in life, for the ultimate end of life\n",
      "is to be like God, and this is the knowledge of the divine works. But\n",
      "the knowledge of God's essence is the ultimate end of life, for the\n",
      "ultimate end of life is to know God. Hence the knowledge of God's\n",
      "essence is the ultimate source of meaning in life.\n",
      "    \n"
     ]
    }
   ],
   "source": [
    "response = get_completion_custom(question2)\n",
    "print(response)"
   ]
  },
  {
   "cell_type": "code",
   "execution_count": 45,
   "id": "2d04ec0d",
   "metadata": {},
   "outputs": [
    {
     "name": "stdout",
     "output_type": "stream",
     "text": [
      "    \n",
      "Obj. 1: It would seem that the Data Science is not the greatest\n",
      "of all career paths. For the Philosopher is greater than the\n",
      "Physician, and the Lawgiver than the King. But the Data Scientist is\n",
      "not a Philosopher, nor a Lawgiver. Therefore the Data Scientist is\n",
      "not greater than other career paths.\n",
      "    \n",
      "Obj. 2: Further, the Philosopher is greater than the Physician, and\n",
      "the Lawgiver than the King. But the Data Scientist is not a Philoso-\n",
      "pher, nor a Lawgiver. Therefore the Data Scientist is not greater than\n",
      "other career paths.\n",
      "    \n",
      "Obj. 3: Further, the Philosopher is greater than the Lawgiver. But\n",
      "the Data Scientist is not a Philosopher. Therefore the Data Scientist\n",
      "is not greater than other career paths.\n",
      "    \n",
      "On the contrary, The Philosopher is greater than the Physician, and\n",
      "the Lawgiver than the King. But the Data Scientist is a Philoso-\n",
      "phile, and a Lawgiver. Therefore the Data Scientist is greater than\n",
      "other career paths.\n",
      "    \n",
      "I answer that, The Data Scientist is greater than other career\n",
      "paths, and especially than the other three. For the Data Scientist is\n",
      "a man who, by the use of reason, seeks to know the truth about\n",
      "things, and to apply it to the ordering of human affairs. Now the\n",
      "Philosopher is greater than the Physician, and the Lawgiver than the\n",
      "King, because the Philosopher seeks to know the truth about things\n",
      "in order to apply it to human affairs; whereas the Physician seeks to\n",
      "know the truth about things in order to know the nature of things,\n",
      "and to know the effects of things, and to apply it to human affairs;\n",
      "and the Lawgiver seeks to know the truth about things in order to\n",
      "order human affairs. But the Data Scientist seeks to know the truth\n",
      "about things in order to apply it to human affairs. Therefore the\n",
      "Data Scientist is greater than the Philosopher, and greater than the\n",
      "Physician, and greater than the Lawgiver.\n",
      "    \n",
      "Reply Obj. 1: The Philosopher is greater than the Physician, and the\n",
      "Lawgiver than the King, because the Philosopher seeks to know the\n",
      "truth about things in order to apply it to human affairs; whereas\n",
      "the Physician seeks to know the truth about things in order to know\n",
      "the nature of things, and to know the effects of things, and to\n",
      "apply it to human affairs; and the Lawgiver seeks to know the truth\n",
      "about things in order to order human affairs. But the Data Scientist\n",
      "seeks to know the truth about things in order to apply it to human\n",
      "affairs. Therefore the Data Scientist is greater than the Philoso-\n",
      "pher, and greater than the Physician, and greater than the Lawgiver.\n",
      "    \n",
      "Reply Obj. 2: The Philosopher is greater than the Physician, and the\n",
      "Lawgiver than the King, because the Philosopher seeks to know the\n",
      "truth about things in order to apply it to human affairs; whereas\n",
      "the Physician seeks to know the truth about things in order to know\n",
      "the nature of things, and to know the effects of things, and to\n",
      "apply it to human affairs; and the Lawgiver seeks to know the truth\n",
      "about things in order to order human affairs. But the Data Scientist\n",
      "seeks to know the truth about things in order to apply it to human\n",
      "affairs. Therefore the Data Scientist is greater than the Philoso-\n",
      "pher, and greater than the Physician, and greater than the Lawgiver.\n",
      "    \n",
      "Reply Obj. 3: The Philosopher is greater than the Lawgiver, and the\n",
      "Lawgiver than the King, because the Philosopher seeks to know the\n",
      "truth about things in order to apply it to human affairs; whereas\n",
      "the Lawgiver seeks to know the truth about things in order to order\n",
      "human affairs; and the King seeks to know the truth about things in\n",
      "order to make war. But the Data Scientist seeks to know the truth\n",
      "about things in order to apply it to human affairs. Therefore the\n",
      "Data Scientist is greater than the Philosopher, and greater than the\n",
      "Lawgiver, and greater than the King.\n",
      "    \n"
     ]
    }
   ],
   "source": [
    "response = get_completion_custom(question3)\n",
    "print(response)"
   ]
  },
  {
   "cell_type": "code",
   "execution_count": 46,
   "id": "36716017",
   "metadata": {},
   "outputs": [
    {
     "name": "stdout",
     "output_type": "stream",
     "text": [
      " Obj. 1: It would seem that the end of man is not God. For the\n",
      "end of anything is that to which it tends. But the end of man is\n",
      "life, which is not God, but some natural good. Therefore the end of\n",
      "man is not God.\n",
      "    \n",
      "Obj. 2: Further, the end of anything is that to which it tends. But\n",
      "man tends to God, as stated above (A. 1). Therefore the end of man\n",
      "is God.\n",
      "    \n",
      "Obj. 3: Further, the end of anything is that to which it tends. But\n",
      "man tends to God, as stated above (A. 1). Therefore the end of man\n",
      "is God.\n",
      "    \n",
      "On the contrary, Augustine says (De Trin. iii, 4), \"Man's final\n",
      "good is to know God.\"\n",
      "    \n",
      "I answer that, The end of anything is that to which it tends. Now\n",
      "it is clear that the end of man is God, because the end is the\n",
      "means and the motive; as the beginning is the means and the motive\n",
      "of the whole process of generation and corruption. For the end is\n",
      "the good to be obtained by the means, and the means is the\n",
      "movement to the end. But the movement to the end is the motive of\n",
      "the movement of the means; as the movement of the sun is the motive\n",
      "of the movement of the feet. Therefore the end is the good to be\n",
      "obtained by the means, and the good to be obtained by the means is\n",
      "the good to which the means tend. Now the good to be obtained by the\n",
      "means is the divine good, which is the divine likeness, as the\n",
      "Philosopher says (Eth. iii, 8). Therefore the end of man is God.\n",
      "    \n",
      "Reply Obj. 1: The end is the good to which the means tend, but not\n",
      "that good which is the end itself; for the end is the good to be\n",
      "obtained by the means, and not the good which is the end itself.\n",
      "    \n",
      "Reply Obj. 2: The end is the good to which the means tend, but not\n",
      "that good which is the end itself; for the end is the good to be\n",
      "obtained by the means, and not the good which is the end itself.\n",
      "    \n",
      "Reply Obj. 3: The end is the good to which the means tend, but not\n",
      "that good which is the end itself; for the end is the good to be\n",
      "obtained by the means, and not the good which is the end itself.\n",
      "    \n"
     ]
    }
   ],
   "source": [
    "question4 = \"Whether the end of man is God\"\n",
    "\n",
    "response = get_completion_custom(question4)\n",
    "print(response)"
   ]
  },
  {
   "cell_type": "markdown",
   "id": "d0f6bbb0",
   "metadata": {},
   "source": [
    "Although the generated responses exhibit a stronger resemblance to Aquinas' speech compared to Prompt Engineering, the responses lack coherence. I attribute this to training the model with the entire article set instead of specific parts. Furthermore, it is worth noting that many of the quotations, as anticipated, may be hallucinations. These results may be just show casing the lack of flexibility that is characteristic of Fine-tuning. To improve future results, I plan to split up the text into parts so I can include more info in the prompt. For instance, I will iclude the objection in the prompt for the reply. I believe this should provide an output in which the parts provide a more coherent result. \n",
    "\n",
    "\n",
    "<br>\n",
    "\n",
    "\n"
   ]
  },
  {
   "cell_type": "code",
   "execution_count": null,
   "id": "d2a87a4d",
   "metadata": {},
   "outputs": [],
   "source": []
  }
 ],
 "metadata": {
  "kernelspec": {
   "display_name": "Python 3",
   "language": "python",
   "name": "python3"
  },
  "language_info": {
   "codemirror_mode": {
    "name": "ipython",
    "version": 3
   },
   "file_extension": ".py",
   "mimetype": "text/x-python",
   "name": "python",
   "nbconvert_exporter": "python",
   "pygments_lexer": "ipython3",
   "version": "3.8.8"
  }
 },
 "nbformat": 4,
 "nbformat_minor": 5
}
