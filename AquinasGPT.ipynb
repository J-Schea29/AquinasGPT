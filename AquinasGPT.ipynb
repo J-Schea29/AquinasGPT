{
 "cells": [
  {
   "cell_type": "markdown",
   "id": "3c5192eb",
   "metadata": {},
   "source": [
    "<br>\n",
    "\n",
    "# AquinasGPT\n",
    "<br>\n",
    "\n",
    "The objective of this project is to lay the ground work for a chatbot that articulates its responses akin to the style found in Thomas Aquinas' Summa Theologiae. This project holds special importance to me, given my study of the Summa at \n",
    "[Thomas Aquinas College](https://www.thomasaquinas.edu/) (I even wrote my senior thesis on Aquinas' work the Division and Method of the Sciences which can be found [here](https://www.linkedin.com/in/jonscheaffer/overlay/1635484058296/single-media-viewer/?profileId=ACoAAC4PAjwBaKwgpkGvOJTXmVHGwbVUXyklzvk)). Additionally, the Summa's distinctive structure of question and response lends itself well to being adapted into the format of prompts and completions. Initially, I shall employ a prompt engineering approach, followed by a subsequent attempt at fine-tuning.\n",
    "\n",
    "<br>\n",
    "\n",
    "For the purposes of this project I will be testing my prompts with the questions:\n",
    "\n",
    "1.) What is the meaning of Life?\n",
    "\n",
    "2.) Is the pursuit of career advancement the ultimate source of meaning in life?\n",
    "\n",
    "3.) Is Data Science the greatest of all career paths?\n",
    "\n",
    "<br>\n",
    "\n",
    "I purposely start vague and then go more specific. My goal with this is to analyze the differences between Prompt Engineering and Fine-Tuning. My hypothesis is that Fine-tuning will work best for 1 and 2 but will struggle with 3. Further, Prompt Engineering may yield the best results for 3 given its flexibility, however it may fall short in style and format on 1 and 2. "
   ]
  },
  {
   "cell_type": "code",
   "execution_count": 1,
   "id": "f6ebbfcd",
   "metadata": {},
   "outputs": [],
   "source": [
    "question1 = \"What is the meaning of Life\"\n",
    "question2 = \"Is the pursuit of career advancement the ultimate source of meaning in life?\"\n",
    "question3 = \"Is the Data Science greatest of all career paths\""
   ]
  },
  {
   "cell_type": "code",
   "execution_count": 3,
   "id": "200afde0",
   "metadata": {},
   "outputs": [],
   "source": [
    "#Imports and API key \n",
    "import os\n",
    "from dotenv import load_dotenv\n",
    "import openai\n",
    "import pandas as pd\n",
    "\n",
    "load_dotenv()\n",
    "openai.api_key = os.environ.get('OPENAI_API_KEY')"
   ]
  },
  {
   "cell_type": "markdown",
   "id": "a9b0a48b",
   "metadata": {},
   "source": [
    "# Prompt Engineering Approach\n",
    "<br>\n",
    "\n",
    "### First Attempt with Vague Instructions\n",
    "<br>"
   ]
  },
  {
   "cell_type": "code",
   "execution_count": 19,
   "id": "ab058a52",
   "metadata": {},
   "outputs": [],
   "source": [
    "#A function to get response based off of a prompt\n",
    "def get_completion(prompt, model=\"gpt-3.5-turbo\"): \n",
    "    messages = [{\"role\": \"user\", \"content\": prompt}]\n",
    "    response = openai.ChatCompletion.create(\n",
    "        model=model,\n",
    "        messages=messages,\n",
    "        temperature=0,\n",
    "        max_tokens =2048\n",
    "    )\n",
    "    return response.choices[0].message[\"content\"]"
   ]
  },
  {
   "cell_type": "code",
   "execution_count": 20,
   "id": "e96fed3e",
   "metadata": {},
   "outputs": [
    {
     "name": "stdout",
     "output_type": "stream",
     "text": [
      "In the Summa Theologiae, Thomas Aquinas explores the question of the meaning of life from a theological perspective. According to Aquinas, the ultimate purpose of human life is to achieve union with God, who is the source of all goodness and happiness.\n",
      "\n",
      "Aquinas argues that human beings are created in the image of God and are endowed with reason and free will. This means that we have the capacity to know and love God, and to choose to live in accordance with his will. By living a virtuous life and following the teachings of the Catholic Church, we can grow in holiness and draw closer to God.\n",
      "\n",
      "However, Aquinas acknowledges that the pursuit of union with God is not always easy. We are often tempted by sin and must struggle against our own weaknesses and the temptations of the world. Nevertheless, he believes that through prayer, sacraments, and the guidance of the Church, we can overcome these obstacles and achieve our ultimate goal.\n",
      "\n",
      "Aquinas also emphasizes the importance of living a meaningful life in the here and now. He argues that we should strive to cultivate virtues such as courage, justice, and compassion, and to use our talents and abilities to serve others and make the world a better place. By doing so, we can experience a sense of fulfillment and purpose that is a foretaste of the eternal happiness that awaits us in heaven.\n",
      "\n",
      "In conclusion, the meaning of life, according to Aquinas, is to achieve union with God and to live a virtuous and meaningful life in the service of others. While this may not always be easy, it is ultimately the path to true happiness and fulfillment.\n"
     ]
    }
   ],
   "source": [
    "prompt =  f\"\"\" \n",
    "    Answer the following question as if writing a new article in Thomas Aquinas Summa Theologiae.\\\n",
    "    The question is [{question1}]. Answer should be from perspectice of the teachings of the \\\n",
    "    catholic church (Though this does not have to be explicitly mentioned). Answer can be as long short as needed\\\n",
    "    \"\"\"\n",
    "response = get_completion(prompt)\n",
    "print(response)"
   ]
  },
  {
   "cell_type": "code",
   "execution_count": 21,
   "id": "41c485c0",
   "metadata": {},
   "outputs": [
    {
     "name": "stdout",
     "output_type": "stream",
     "text": [
      "In the Summa Theologiae, Thomas Aquinas addresses the question of whether the pursuit of career advancement is the ultimate source of meaning in life. From the perspective of Catholic teachings, the answer to this question is no.\n",
      "\n",
      "Aquinas argues that the ultimate source of meaning in life is found in our relationship with God. As creatures made in God's image, we are called to love and serve Him above all else. This means that our ultimate goal in life should be to grow closer to God and to fulfill His will for us.\n",
      "\n",
      "While career advancement may bring us temporary satisfaction and a sense of accomplishment, it cannot provide us with the lasting fulfillment that comes from a deep relationship with God. In fact, if we make career advancement our ultimate goal, we risk becoming enslaved to our work and losing sight of what truly matters in life.\n",
      "\n",
      "Furthermore, the pursuit of career advancement can often lead us to compromise our values and neglect our relationships with others. We may become so focused on our own success that we fail to see the needs of those around us, or we may be tempted to engage in unethical behavior in order to get ahead.\n",
      "\n",
      "Instead, Aquinas encourages us to seek a balance between our work and our spiritual lives. We should strive to do our best in our careers, but always with the understanding that our ultimate goal is to serve God and to love our neighbors as ourselves.\n",
      "\n",
      "In conclusion, while career advancement may bring us temporary satisfaction, it cannot provide us with the ultimate source of meaning in life. As Catholics, we are called to prioritize our relationship with God above all else, and to seek a balance between our work and our spiritual lives. By doing so, we can find true fulfillment and purpose in life.\n"
     ]
    }
   ],
   "source": [
    "prompt =  f\"\"\" \n",
    "    Answer the following question as if writing a new article in Thomas Aquinas Summa Theologiae.\\\n",
    "    The question is [{question2}]. Answer should be from perspectice of the teachings of the \\\n",
    "    catholic church (Though this does not have to be explicitly mentioned). Answer can be as long short as needed\\\n",
    "    \"\"\"\n",
    "response = get_completion(prompt)\n",
    "print(response)"
   ]
  },
  {
   "cell_type": "code",
   "execution_count": 22,
   "id": "67c73b7c",
   "metadata": {},
   "outputs": [
    {
     "name": "stdout",
     "output_type": "stream",
     "text": [
      "In considering whether Data Science is the greatest of all career paths, it is important to first understand the nature of career paths and their relationship to the human person. According to Catholic teaching, work is not merely a means to an end, but rather an essential aspect of human dignity and fulfillment. As such, career paths should be chosen with the goal of serving the common good and contributing to the flourishing of society.\n",
      "\n",
      "With this in mind, it is difficult to say definitively whether Data Science is the greatest of all career paths. While it is certainly a field with great potential for innovation and impact, it is not inherently superior to other fields such as medicine, education, or social work. Each career path has its own unique contributions to make to society, and the value of each should be recognized and respected.\n",
      "\n",
      "Furthermore, it is important to consider the ethical implications of Data Science and the responsibility that comes with working in this field. As with any profession, those working in Data Science must be mindful of the potential for harm and strive to use their skills and knowledge for the greater good. This includes respecting the privacy and autonomy of individuals, avoiding the creation or perpetuation of unjust systems, and using data in a way that promotes human flourishing.\n",
      "\n",
      "In conclusion, while Data Science may be a promising and exciting career path, it is not inherently superior to other fields. The value of any career path lies in its potential to serve the common good and contribute to the flourishing of society. As such, those considering a career in Data Science or any other field should approach their decision with a spirit of discernment and a commitment to ethical practice.\n"
     ]
    }
   ],
   "source": [
    "prompt =  f\"\"\" \n",
    "    Answer the following question as if writing a new article in Thomas Aquinas Summa Theologiae.\\\n",
    "    The question is [{question3}]. Answer should be from perspectice of the teachings of the \\\n",
    "    catholic church (Though this does not have to be explicitly mentioned). Answer can be as long short as needed\\\n",
    "    \"\"\"\n",
    "response = get_completion(prompt)\n",
    "print(response)"
   ]
  },
  {
   "cell_type": "markdown",
   "id": "f3f60659",
   "metadata": {},
   "source": [
    "<Br>\n",
    "Upon reviewing the generated output, it seems that the response provided does not align with the professional style and content expected in an article authored by Thomas Aquinas. It appears to be more of a research paper or summary rather than an article written by Aquinas himself.\n",
    "    \n",
    "To correct this, in the next section I give the model more specific instructions on how to format the response."
   ]
  },
  {
   "cell_type": "markdown",
   "id": "ba13cfb6",
   "metadata": {},
   "source": [
    "### Second Attempt with Specific Instructions\n",
    "<Br>"
   ]
  },
  {
   "cell_type": "code",
   "execution_count": 23,
   "id": "1a8a6ce8",
   "metadata": {},
   "outputs": [
    {
     "name": "stdout",
     "output_type": "stream",
     "text": [
      "Obj. 1: What is the meaning of life? Is it simply to exist and survive, or is there a deeper purpose to our existence?\n",
      "\n",
      "Obj. 2: Some argue that the meaning of life is subjective and varies from person to person. Others believe that it is objective and can be discovered through religion or philosophy.\n",
      "\n",
      "Obj. 3: Still, others argue that life has no inherent meaning and that we must create our own purpose through our actions and choices.\n",
      "\n",
      "On the contrary, the Catholic Church teaches that the meaning of life is rooted in our relationship with God. As the Catechism of the Catholic Church states, \"God, infinitely perfect and blessed in himself, in a plan of sheer goodness freely created man to make him share in his own blessed life\" (CCC 1).\n",
      "\n",
      "I answer that the meaning of life is twofold: to know and love God, and to fulfill our unique purpose in His plan. Our ultimate goal is to attain eternal life with God in heaven, but we must also strive to live virtuously and serve others in this life.\n",
      "\n",
      "To know and love God, we must seek Him through prayer, Scripture, and the sacraments. We must also cultivate a life of virtue, striving to imitate Christ in all that we do. This includes practicing the theological virtues of faith, hope, and charity, as well as the cardinal virtues of prudence, justice, fortitude, and temperance.\n",
      "\n",
      "In fulfilling our unique purpose in God's plan, we must discern our talents and gifts and use them to serve others. This may involve pursuing a particular career or vocation, or simply being a loving spouse, parent, or friend. Whatever our calling may be, we must strive to use our talents and gifts for the greater glory of God and the good of others.\n",
      "\n",
      "Reply to Obj. 1: While it is true that survival and existence are necessary for life, they are not sufficient to give life meaning. Without a deeper purpose, life can become empty and meaningless.\n",
      "\n",
      "Reply to Obj. 2: While there may be subjective aspects to our understanding of the meaning of life, the Catholic Church teaches that the ultimate meaning of life is objective and rooted in our relationship with God.\n",
      "\n",
      "Reply to Obj. 3: While it is true that we must make choices and take actions to create meaning in our lives, these choices and actions must be guided by our relationship with God and our ultimate goal of eternal life with Him. Without this foundation, our efforts to create meaning may ultimately be in vain.\n"
     ]
    }
   ],
   "source": [
    "prompt = f\"\"\" Answer as if writing a new article in Thomas Aquinas Summa Theologiae.\\ \n",
    "    As such it should not contradicting the teaching of the catholic church.\\\n",
    "    The question is [{question1}] answers can be as long or short as need \\\n",
    "    and should be in the format:\\\n",
    "    \n",
    "    Obj. 1: ... \\\n",
    "    ...\n",
    "    Obj. N: ... \\\n",
    "    \n",
    "    On the contrary, ...(concise) \\ \n",
    "    \n",
    "    I answer that, ...(more nuanced) \\ \n",
    "    \n",
    "    Reply to Obj. 1: ... (Note: if the \"I answer that\" answers a objection fully then no need for that reply) \\ \n",
    "    ...\n",
    "    Reply to Obj. N: ... \\ \n",
    "    \"\"\"\n",
    "response = get_completion(prompt)\n",
    "print(response)"
   ]
  },
  {
   "cell_type": "code",
   "execution_count": 24,
   "id": "f6097256",
   "metadata": {},
   "outputs": [
    {
     "name": "stdout",
     "output_type": "stream",
     "text": [
      "Obj. 1: It is often believed that the pursuit of career advancement is the ultimate source of meaning in life. This is because a successful career can provide financial stability, social status, and a sense of accomplishment.\n",
      "\n",
      "Obj. 2: However, some argue that this pursuit can lead to a narrow and self-centered view of life, where one's worth is solely determined by their professional achievements.\n",
      "\n",
      "On the contrary, the pursuit of career advancement cannot be the ultimate source of meaning in life. While it may provide temporary satisfaction and material benefits, it cannot fulfill the deepest longings of the human heart.\n",
      "\n",
      "I answer that, the ultimate source of meaning in life is found in our relationship with God. As St. Augustine famously said, \"Our hearts are restless until they rest in you, O Lord.\" Our purpose in life is to know, love, and serve God, and to fulfill the unique mission that He has entrusted to us.\n",
      "\n",
      "While our careers can be an important aspect of our lives, they are not the ultimate source of meaning. We are called to use our talents and abilities to glorify God and to serve others, not simply to advance our own personal interests.\n",
      "\n",
      "Furthermore, the pursuit of career advancement can often lead to a disordered attachment to worldly success and material possessions. This can distract us from our true purpose in life and prevent us from experiencing the fullness of joy and peace that comes from a life centered on God.\n",
      "\n",
      "Reply to Obj. 1: While a successful career can provide temporary satisfaction and material benefits, it cannot fulfill the deepest longings of the human heart. Our ultimate purpose in life is to know, love, and serve God, and to fulfill the unique mission that He has entrusted to us.\n",
      "\n",
      "Reply to Obj. 2: The pursuit of career advancement can often lead to a disordered attachment to worldly success and material possessions, which can distract us from our true purpose in life. We are called to use our talents and abilities to glorify God and to serve others, not simply to advance our own personal interests.\n"
     ]
    }
   ],
   "source": [
    "prompt = f\"\"\" Answer as if writing a new article in Thomas Aquinas Theologiae.\\ \n",
    "    As such it should not contradicting the teaching of the catholic church.\\\n",
    "    The question is [{question2}] answers can be as long or short as need \\\n",
    "    and should be in the format:\\\n",
    "    \n",
    "    Obj. 1: ... \\\n",
    "    ...\n",
    "    Obj. N: ... \\\n",
    "    \n",
    "    On the contrary, ...(concise) \\ \n",
    "    \n",
    "    I answer that, ...(more nuanced) \\ \n",
    "    \n",
    "    Reply to Obj. 1: ... (Note: if the \"I answer that\" answers a objection fully then no need for that reply) \\ \n",
    "    ...\n",
    "    Reply to Obj. N: ... \\ \n",
    "    \"\"\"\n",
    "response = get_completion(prompt)\n",
    "print(response)"
   ]
  },
  {
   "cell_type": "code",
   "execution_count": 25,
   "id": "cd37ac5f",
   "metadata": {},
   "outputs": [
    {
     "name": "stdout",
     "output_type": "stream",
     "text": [
      "Obj. 1: Data Science is a rapidly growing field with high demand and lucrative salaries, making it a desirable career path for many individuals.\n",
      "\n",
      "Obj. 2: The use of data and technology has the potential to solve complex problems and improve various industries, making Data Science a valuable and impactful career choice.\n",
      "\n",
      "On the contrary, while Data Science may be a popular and financially rewarding career path, it cannot be considered the greatest of all career paths.\n",
      "\n",
      "I answer that, the greatest career path is one that aligns with an individual's unique talents, passions, and values, while also contributing to the greater good of society. While Data Science may be a valuable and impactful field, it may not be the best fit for everyone.\n",
      "\n",
      "Furthermore, the pursuit of a career solely for financial gain or societal status can lead to dissatisfaction and a lack of fulfillment in one's professional life. It is important for individuals to consider their personal goals and values when choosing a career path.\n",
      "\n",
      "Reply to Obj. 1: While the financial benefits of Data Science may be attractive, it is important to consider the long-term satisfaction and fulfillment that comes with pursuing a career that aligns with one's passions and values.\n",
      "\n",
      "Reply to Obj. 2: While the use of data and technology can certainly improve various industries, it is important to consider the potential negative consequences and ethical implications of such advancements. It is crucial for individuals in the Data Science field to prioritize ethical considerations and social responsibility in their work.\n"
     ]
    }
   ],
   "source": [
    "prompt = f\"\"\" Answer as if writing a new article in Thomas Aquinas Theologiae.\\ \n",
    "    As such it should not contradicting the teaching of the catholic church.\\\n",
    "    The question is [{question3}] answers can be as long or short as need \\\n",
    "    and should be in the format:\\\n",
    "    \n",
    "    Obj. 1: ... \\\n",
    "    ...\n",
    "    Obj. N: ... \\\n",
    "    \n",
    "    On the contrary, ...(concise) \\ \n",
    "    \n",
    "    I answer that, ...(more nuanced) \\ \n",
    "    \n",
    "    Reply to Obj. 1: ... (Note: if the \"I answer that\" answers a objection fully then no need for that reply) \\ \n",
    "    ...\n",
    "    Reply to Obj. N: ... \\ \n",
    "    \"\"\"\n",
    "response = get_completion(prompt)\n",
    "print(response)"
   ]
  },
  {
   "cell_type": "markdown",
   "id": "3dd035ea",
   "metadata": {},
   "source": [
    "<br>\n",
    "\n",
    "The responses from this prompt are much closer to what we would want for an output imititating the style of Aquinas! However, there are still some issues present. For instance, in the first question, the objection is presented as a question rather than a statement. Additionally, some of the responses appear to be relatively short in length.\n",
    "\n",
    "In an attempt to address these concerns and improve the results, I will now try to train a model that is fine-tuned specifically with the Summa Theologiae. By fine-tuning the model with content directly from Aquinas' work, we can hope for more accurate and stylistically appropriate responses."
   ]
  },
  {
   "cell_type": "markdown",
   "id": "c8821203",
   "metadata": {},
   "source": [
    "\n",
    "# Fine-Tuning  Approach\n",
    "<br>\n"
   ]
  },
  {
   "cell_type": "code",
   "execution_count": 4,
   "id": "cfb41232",
   "metadata": {},
   "outputs": [],
   "source": [
    "#Reading csv cleaned in Data_prep file\n",
    "ft = pd.read_csv(\"fine_tuning.csv\")[[\"prompt\", \"completion\"]]\n",
    "\n",
    "#Coverting to Json\n",
    "ft.to_json(\"AquinasGPT.jsonl\", orient='records', lines=True)"
   ]
  },
  {
   "cell_type": "code",
   "execution_count": 5,
   "id": "735d22cb",
   "metadata": {},
   "outputs": [
    {
     "name": "stdout",
     "output_type": "stream",
     "text": [
      "Analyzing...\n",
      "\n",
      "- Your file contains 582 prompt-completion pairs\n",
      "- There are 13 examples that are very long. These are rows: [194, 208, 245, 352, 358, 366, 367, 385, 421, 437, 530, 580, 581]\n",
      "For conditional generation, and for classification the examples shouldn't be longer than 2048 tokens.\n",
      "- All prompts end with suffix `\\n\\n###\\n\\n`\n",
      "- All completions end with suffix `\\nEND`\n",
      "- The completion should start with a whitespace character (` `). This tends to produce better results due to the tokenization we use. See https://platform.openai.com/docs/guides/fine-tuning/preparing-your-dataset for more details\n",
      "\n",
      "Based on the analysis we will perform the following actions:\n",
      "- [Recommended] Remove 13 long examples [Y/n]: Y\n",
      "- [Recommended] Add a whitespace character to the beginning of the completion [Y/n]: Y\n",
      "\n",
      "\n",
      "Your data will be written to a new JSONL file. Proceed [Y/n]: Y\n",
      "\n",
      "Wrote modified file to `AquinasGPT_prepared.jsonl`\n",
      "Feel free to take a look!\n",
      "\n",
      "Now use that file when fine-tuning:\n",
      "> openai api fine_tunes.create -t \"AquinasGPT_prepared.jsonl\"\n",
      "\n",
      "After you’ve fine-tuned a model, remember that your prompt has to end with the indicator string `\\n\\n###\\n\\n` for the model to start generating completions, rather than continuing with the prompt. Make sure to include `stop=[\"\\n    \\nEND\"]` so that the generated texts ends at the expected place.\n",
      "Once your model starts training, it'll approximately take 28.26 minutes to train a `curie` model, and less for `ada` and `babbage`. Queue will approximately take half an hour per job ahead of you.\n"
     ]
    }
   ],
   "source": [
    "!openai tools fine_tunes.prepare_data -f AquinasGPT.jsonl -q"
   ]
  },
  {
   "cell_type": "code",
   "execution_count": null,
   "id": "f9835136",
   "metadata": {
    "scrolled": true
   },
   "outputs": [],
   "source": [
    "!openai api fine_tunes.create -t \"AquinasGPT_prepared.jsonl\" -m curie --suffix \"AquinasGPT\""
   ]
  },
  {
   "cell_type": "code",
   "execution_count": null,
   "id": "59a64043",
   "metadata": {},
   "outputs": [],
   "source": []
  },
  {
   "cell_type": "code",
   "execution_count": 37,
   "id": "6af03151",
   "metadata": {},
   "outputs": [],
   "source": []
  },
  {
   "cell_type": "code",
   "execution_count": null,
   "id": "50beb77e",
   "metadata": {},
   "outputs": [],
   "source": [
    "FINE_TUNED_MODEL = 'ada:ft-openai-2021-07-30-12-26-20'"
   ]
  },
  {
   "cell_type": "code",
   "execution_count": null,
   "id": "f3e4ab32",
   "metadata": {},
   "outputs": [],
   "source": [
    "openai.Completion.create(\n",
    "    model=FINE_TUNED_MODEL,\n",
    "    prompt=question1+ '\\n\\n###\\n\\n',\n",
    "    temperature=0,\n",
    "    stop=[\"\\n    \\nEND\"])"
   ]
  },
  {
   "cell_type": "code",
   "execution_count": null,
   "id": "22f47ae5",
   "metadata": {},
   "outputs": [],
   "source": [
    "openai.Completion.create(\n",
    "    model=FINE_TUNED_MODEL,\n",
    "    prompt=question2+ '\\n\\n###\\n\\n',\n",
    "    temperature=0,\n",
    "    stop=[\"\\n    \\nEND\"])"
   ]
  },
  {
   "cell_type": "code",
   "execution_count": null,
   "id": "363b3728",
   "metadata": {},
   "outputs": [],
   "source": [
    "openai.Completion.create(\n",
    "    model=FINE_TUNED_MODEL,\n",
    "    prompt=question3+ '\\n\\n###\\n\\n',\n",
    "    temperature=0,\n",
    "    stop=[\"\\n    \\nEND\"])"
   ]
  }
 ],
 "metadata": {
  "kernelspec": {
   "display_name": "Python 3",
   "language": "python",
   "name": "python3"
  },
  "language_info": {
   "codemirror_mode": {
    "name": "ipython",
    "version": 3
   },
   "file_extension": ".py",
   "mimetype": "text/x-python",
   "name": "python",
   "nbconvert_exporter": "python",
   "pygments_lexer": "ipython3",
   "version": "3.8.8"
  }
 },
 "nbformat": 4,
 "nbformat_minor": 5
}
